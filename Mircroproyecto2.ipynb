{
 "cells": [
  {
   "cell_type": "markdown",
   "id": "79d917e5-83a4-48a3-afa2-c902af63da45",
   "metadata": {},
   "source": [
    "### Universidad del Valle de Guatemala\n",
    "### Modelado y Simulacion\n",
    "#### MICRO PROYECTO 1\n",
    "##### Juan Marroquin 19845\n",
    "##### Carlos Raxtum 19721"
   ]
  },
  {
   "cell_type": "markdown",
   "id": "0691dac0-db67-4f66-a4ae-d399e3ff1c4d",
   "metadata": {},
   "source": [
    "import libraries"
   ]
  },
  {
   "cell_type": "markdown",
   "id": "9f596531-2c5b-4a2d-b686-247945598c45",
   "metadata": {},
   "source": [
    "#### Ejercicio 1\n",
    "#### El triángulo de Sierpinski es uno de los fractales más famosos. Un fractal se puede construir a través de saltos aleatorios entre funciones determinísticas (juegos de caos). Considere las siguientes tres funciones:\n",
    "* Point f1(Point p): return Point(p.x/2, p.y/2)\n",
    "* Point f2(Point p): return Point(p.x/2 + 0.5, p.y/2)\n",
    "* Point f3(Point p): return Point(p.x/2 + 0.25, p.y/2 + 0.5)\n",
    "#### Estas funciones toman como parámetro el punto anterior en el fractal, y lo utilizan para generar el siguiente punto (paso determinístico).\n",
    "#### La idea de los juegos del caos es simular una variable aleatoria X, para elegir la función a utilizar para calcular el siguiente punto. Noten que X debe ser discreta por tanto:\n",
    "        P(X=x1) = p1, P(X=x2) = p2, P(X=x3) = p3, tal que p1 + p2 + p3 = 1"
   ]
  },
  {
   "cell_type": "markdown",
   "id": "4f3574d6-b3b3-4c93-81eb-76bdefa7f39d",
   "metadata": {},
   "source": [
    "#### Tasks:\n",
    "* 1. Cree un programa que simule 100,000 veces X para elegir entre f1, f2 y f3, dibuje un triángulo de Sierpinski\n",
    "* 2. Determine experimentalmente p1, p2, p3 que hacen su dibujo más denso\n"
   ]
  },
  {
   "cell_type": "markdown",
   "id": "ba4ba8c9-500c-49dd-82ae-23b6ac875841",
   "metadata": {},
   "source": [
    "#### Ejercicio 2\n",
    "En general, los juegos del caos pueden definirse como un Framework(F,X,n), donde F es un conjunto de k funciones\n",
    "determinísticas, y X es una variable aleatoria discreta con distribución probabilística P = {pi | P(X=i) = pi}, y n es la\n",
    "cantidad de puntos a dibujar. Noten que |P| = k.\n",
    "Para este fractal en específico considere:\n",
    "F =\n",
    "* f1(x, y) (x*0.85 + y*0.04 + 0.0, x*-0.04 + y*0.85 + 1.6)\n",
    "* f2(x, y) (-0.15*x + 0.28*y + 0.0, x*0.26 + y*0.24 + 0.44)\n",
    "* f3(x, y) (x*0.2 + y*-0.26 + 0.0, x*0.23 + y*0.22 + 1.6)\n",
    "* f4(x, y) (x*0.0 + y*0.0, x*0.0 + y*0.16)\n",
    "* P = {0.85, 0.07, 0.07, 0.01}\n",
    "* n = 100000\n"
   ]
  },
  {
   "cell_type": "markdown",
   "id": "1323566a-bc7e-42ab-a100-2be43713a1cd",
   "metadata": {},
   "source": [
    "#### Tasks:\n",
    "* 1. Cree un programa que corra el anterior juego del caos y muestre el dibujo resultante"
   ]
  },
  {
   "cell_type": "markdown",
   "id": "ee6090e0-8304-4c44-9d7a-4ffab6c53adc",
   "metadata": {},
   "source": [
    "#### Ejercicio 3\n",
    "Considere las siguientes dos funciones generados de pseudo randoms:\n"
   ]
  },
  {
   "cell_type": "markdown",
   "id": "877268af-583f-4afb-8897-c495ff378c46",
   "metadata": {},
   "source": [
    "#### Tasks:\n",
    "* 1. Construya un programa que compare estos tres generadores a través de un histograma de asteriscos (de 0 a 1 con saltos de 0.1) Use tres comparaciones para 100, 5,000 y 100,000 repeticiones.\n",
    "* 2. ¿Qué generador le parece mejor? (considere solamente Generador 1 y Generador 2) ¿Por qué?"
   ]
  },
  {
   "cell_type": "markdown",
   "id": "d835e306-63ee-4e19-8668-d58f5173ddc2",
   "metadata": {},
   "source": [
    "#### Ejercicio 4\n",
    "Considere la siguiente integral"
   ]
  },
  {
   "cell_type": "markdown",
   "id": "7149efdc-0ff0-4239-9859-04418c45d722",
   "metadata": {},
   "source": [
    "#### Tasks:\n",
    "* 1. Transforme la integral a una con límites de 0 a 1, muestre su procedimiento\n",
    "* 2. Aproxime la integral usando el método de Montecarlo, haciendo 100, 10,000 y 100,000 iteraciones.\n"
   ]
  },
  {
   "cell_type": "markdown",
   "id": "faf5fc77-c096-47eb-a274-e7f32109278f",
   "metadata": {},
   "source": [
    "#### Ejercicio 5\n",
    "Considere la siguiente integral"
   ]
  },
  {
   "cell_type": "markdown",
   "id": "c5306645-30ef-4be4-b5fd-f103c4370ba6",
   "metadata": {},
   "source": [
    "#### Tasks:\n",
    "* 1. Transforme la integral múltiple a una en la que ambos límites sean de 0 a 1, muestre su procedimiento\n",
    "* 2. Aproxime la integral usando el método de Montecarlo, haciendo 100, 10,000 y 100,000 iteraciones"
   ]
  },
  {
   "cell_type": "code",
   "execution_count": null,
   "id": "99d6ac73-f313-4c3c-affd-1eb042961251",
   "metadata": {},
   "outputs": [],
   "source": []
  }
 ],
 "metadata": {
  "kernelspec": {
   "display_name": "Python 3 (ipykernel)",
   "language": "python",
   "name": "python3"
  },
  "language_info": {
   "codemirror_mode": {
    "name": "ipython",
    "version": 3
   },
   "file_extension": ".py",
   "mimetype": "text/x-python",
   "name": "python",
   "nbconvert_exporter": "python",
   "pygments_lexer": "ipython3",
   "version": "3.9.13"
  }
 },
 "nbformat": 4,
 "nbformat_minor": 5
}
